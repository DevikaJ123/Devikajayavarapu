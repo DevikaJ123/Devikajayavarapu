{
 "cells": [
  {
   "cell_type": "markdown",
   "metadata": {},
   "source": [
    "## Task 2"
   ]
  },
  {
   "cell_type": "markdown",
   "metadata": {},
   "source": [
    "* Take last 3 values of roll number\n",
    "* If value startswith \"01\" --> 'CSE Dept'\n",
    "* elif value startswith \"11\" --> 'IT Dept'\n",
    "* elif value startswith \"21\" --> \"ECE Dept\"\n",
    "* else not an SRM student"
   ]
  },
  {
   "cell_type": "code",
   "execution_count": 1,
   "metadata": {},
   "outputs": [
    {
     "name": "stdout",
     "output_type": "stream",
     "text": [
      "Enter your roll number AP19110010011\n",
      "CSE Department\n"
     ]
    }
   ],
   "source": [
    "\n",
    "roll_num = input(\"Enter your roll number \")\n",
    "if roll_num[-3:].startswith(\"01\"):\n",
    "    print(\"CSE Department\")\n",
    "elif roll_num[-3:].startswith(\"11\"):\n",
    "    print(\"IT Department\")\n",
    "elif roll_num[-3:].startswith(\"21\"):\n",
    "    print(\"ECE Department\")\n",
    "else:\n",
    "    print(\"Not a SRM student\")"
   ]
  },
  {
   "cell_type": "markdown",
   "metadata": {},
   "source": [
    "## Some test cases"
   ]
  },
  {
   "cell_type": "code",
   "execution_count": 2,
   "metadata": {},
   "outputs": [
    {
     "name": "stdout",
     "output_type": "stream",
     "text": [
      "Enter your roll number AP19110010017\n",
      "CSE Department\n"
     ]
    }
   ],
   "source": [
    "\n",
    "roll_num = input(\"Enter your roll number \")\n",
    "if roll_num[-3:].startswith(\"01\"):\n",
    "    print(\"CSE Department\")\n",
    "elif roll_num[-3:].startswith(\"11\"):\n",
    "    print(\"IT Department\")\n",
    "elif roll_num[-3:].startswith(\"21\"):\n",
    "    print(\"ECE Department\")\n",
    "else:\n",
    "    print(\"Not a SRM student\")"
   ]
  },
  {
   "cell_type": "code",
   "execution_count": 3,
   "metadata": {},
   "outputs": [
    {
     "name": "stdout",
     "output_type": "stream",
     "text": [
      "Enter your roll number AP19110010216\n",
      "ECE Department\n"
     ]
    }
   ],
   "source": [
    "roll_num = input(\"Enter your roll number \")\n",
    "if roll_num[-3:].startswith(\"01\"):\n",
    "    print(\"CSE Department\")\n",
    "elif roll_num[-3:].startswith(\"11\"):\n",
    "    print(\"IT Department\")\n",
    "elif roll_num[-3:].startswith(\"21\"):\n",
    "    print(\"ECE Department\")\n",
    "else:\n",
    "    print(\"Not a SRM student\")"
   ]
  },
  {
   "cell_type": "code",
   "execution_count": 4,
   "metadata": {},
   "outputs": [
    {
     "name": "stdout",
     "output_type": "stream",
     "text": [
      "Enter your roll number AP19110010119\n",
      "IT Department\n"
     ]
    }
   ],
   "source": [
    "roll_num = input(\"Enter your roll number \")\n",
    "if roll_num[-3:].startswith(\"01\"):\n",
    "    print(\"CSE Department\")\n",
    "elif roll_num[-3:].startswith(\"11\"):\n",
    "    print(\"IT Department\")\n",
    "elif roll_num[-3:].startswith(\"21\"):\n",
    "    print(\"ECE Department\")\n",
    "else:\n",
    "    print(\"Not a SRM student\")"
   ]
  },
  {
   "cell_type": "code",
   "execution_count": 5,
   "metadata": {},
   "outputs": [
    {
     "name": "stdout",
     "output_type": "stream",
     "text": [
      "Enter your roll number AP19110010050\n",
      "Not a SRM student\n"
     ]
    }
   ],
   "source": [
    "roll_num = input(\"Enter your roll number \")\n",
    "if roll_num[-3:].startswith(\"01\"):\n",
    "    print(\"CSE Department\")\n",
    "elif roll_num[-3:].startswith(\"11\"):\n",
    "    print(\"IT Department\")\n",
    "elif roll_num[-3:].startswith(\"21\"):\n",
    "    print(\"ECE Department\")\n",
    "else:\n",
    "    print(\"Not a SRM student\")"
   ]
  },
  {
   "cell_type": "code",
   "execution_count": null,
   "metadata": {},
   "outputs": [],
   "source": []
  }
 ],
 "metadata": {
  "kernelspec": {
   "display_name": "Python 3",
   "language": "python",
   "name": "python3"
  },
  "language_info": {
   "codemirror_mode": {
    "name": "ipython",
    "version": 3
   },
   "file_extension": ".py",
   "mimetype": "text/x-python",
   "name": "python",
   "nbconvert_exporter": "python",
   "pygments_lexer": "ipython3",
   "version": "3.6.10"
  }
 },
 "nbformat": 4,
 "nbformat_minor": 4
}
